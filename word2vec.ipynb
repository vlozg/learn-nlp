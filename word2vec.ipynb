{
  "nbformat": 4,
  "nbformat_minor": 0,
  "metadata": {
    "colab": {
      "name": "word2vec",
      "provenance": [],
      "collapsed_sections": [],
      "toc_visible": true,
      "authorship_tag": "ABX9TyNOpcX4j5WwzGb5pHcEfsbu",
      "include_colab_link": true
    },
    "kernelspec": {
      "name": "python3",
      "display_name": "Python 3"
    },
    "accelerator": "GPU"
  },
  "cells": [
    {
      "cell_type": "markdown",
      "metadata": {
        "id": "view-in-github",
        "colab_type": "text"
      },
      "source": [
        "<a href=\"https://colab.research.google.com/github/vlozg/learn-nlp/blob/main/word2vec.ipynb\" target=\"_parent\"><img src=\"https://colab.research.google.com/assets/colab-badge.svg\" alt=\"Open In Colab\"/></a>"
      ]
    },
    {
      "cell_type": "markdown",
      "metadata": {
        "id": "DdYm3yE1m-n8"
      },
      "source": [
        "# Introduction"
      ]
    },
    {
      "cell_type": "markdown",
      "metadata": {
        "id": "lzB5ipeqnBeP"
      },
      "source": [
        "# Import data and library"
      ]
    },
    {
      "cell_type": "markdown",
      "metadata": {
        "id": "o-rFfgYA4HYw"
      },
      "source": [
        "## Import library"
      ]
    },
    {
      "cell_type": "code",
      "metadata": {
        "id": "__czflQ8kkwO"
      },
      "source": [
        "import tensorflow as tf\r\n",
        "from tensorflow.keras.preprocessing.text import Tokenizer\r\n",
        "from keras.preprocessing.sequence import pad_sequences\r\n",
        "from keras.preprocessing.text import text_to_word_sequence"
      ],
      "execution_count": 1,
      "outputs": []
    },
    {
      "cell_type": "markdown",
      "metadata": {
        "id": "8oF9PnV14KCL"
      },
      "source": [
        "## Download WikiText-2 dataset"
      ]
    },
    {
      "cell_type": "code",
      "metadata": {
        "colab": {
          "base_uri": "https://localhost:8080/"
        },
        "id": "kNrcsnKMuk_E",
        "outputId": "7558361d-eb4f-49b0-8de6-3aa140059420"
      },
      "source": [
        "import os\r\n",
        "import urllib.request\r\n",
        "\r\n",
        "dataset_url = \"https://s3.amazonaws.com/fast-ai-nlp/wikitext-2.tgz\"\r\n",
        "urllib.request.urlretrieve(dataset_url, \"wikitext-2.tgz\")"
      ],
      "execution_count": 4,
      "outputs": [
        {
          "output_type": "execute_result",
          "data": {
            "text/plain": [
              "('wikitext-2.tgz', <http.client.HTTPMessage at 0x7fcead55d510>)"
            ]
          },
          "metadata": {
            "tags": []
          },
          "execution_count": 4
        }
      ]
    },
    {
      "cell_type": "code",
      "metadata": {
        "id": "XDAMztHo33K4"
      },
      "source": [
        "import tarfile\r\n",
        "\r\n",
        "# Extract from archive\r\n",
        "with tarfile.open('./wikitext-2.tgz', 'r:gz') as tar:\r\n",
        "    tar.extractall(path='./data')"
      ],
      "execution_count": 5,
      "outputs": []
    },
    {
      "cell_type": "markdown",
      "metadata": {
        "id": "HBMB1c3KnQGt"
      },
      "source": [
        "# Continuous bag-of-word model (CBOW)"
      ]
    },
    {
      "cell_type": "markdown",
      "metadata": {
        "id": "Ts5dKw5qnp13"
      },
      "source": [
        "# Skip-gram model"
      ]
    },
    {
      "cell_type": "markdown",
      "metadata": {
        "id": "WmmKMouWnFaJ"
      },
      "source": [
        "# Reference"
      ]
    }
  ]
}